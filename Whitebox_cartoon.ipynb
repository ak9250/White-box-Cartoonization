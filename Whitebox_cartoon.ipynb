{
  "nbformat": 4,
  "nbformat_minor": 0,
  "metadata": {
    "colab": {
      "name": "Whitebox-cartoon.ipynb",
      "provenance": [],
      "authorship_tag": "ABX9TyPfjCe1tg89NaQwJi45wHwL",
      "include_colab_link": true
    },
    "kernelspec": {
      "name": "python3",
      "display_name": "Python 3"
    },
    "accelerator": "GPU"
  },
  "cells": [
    {
      "cell_type": "markdown",
      "metadata": {
        "id": "view-in-github",
        "colab_type": "text"
      },
      "source": [
        "<a href=\"https://colab.research.google.com/github/ak9250/White-box-Cartoonization/blob/master/Whitebox_cartoon.ipynb\" target=\"_parent\"><img src=\"https://colab.research.google.com/assets/colab-badge.svg\" alt=\"Open In Colab\"/></a>"
      ]
    },
    {
      "cell_type": "code",
      "metadata": {
        "id": "cEmm_yqa0Pmn",
        "colab_type": "code",
        "colab": {}
      },
      "source": [
        "!git clone https://github.com/SystemErrorWang/White-box-Cartoonization.git"
      ],
      "execution_count": null,
      "outputs": []
    },
    {
      "cell_type": "code",
      "metadata": {
        "id": "PM1XNZiR0daq",
        "colab_type": "code",
        "colab": {}
      },
      "source": [
        "cd White-box-Cartoonization/"
      ],
      "execution_count": null,
      "outputs": []
    },
    {
      "cell_type": "code",
      "metadata": {
        "id": "LJ8bk5cs02uh",
        "colab_type": "code",
        "colab": {}
      },
      "source": [
        "!pip install tensorflow-gpu==1.15"
      ],
      "execution_count": null,
      "outputs": []
    },
    {
      "cell_type": "code",
      "metadata": {
        "id": "2cGgxJfs2kUA",
        "colab_type": "code",
        "colab": {}
      },
      "source": [
        "!wget -O /content/White-box-Cartoonization/test_code/test_images/test.jpg https://upload.wikimedia.org/wikipedia/commons/a/ab/Abraham_Lincoln_O-77_matte_collodion_print.jpg"
      ],
      "execution_count": null,
      "outputs": []
    },
    {
      "cell_type": "code",
      "metadata": {
        "id": "TAZpkFjpYNc1",
        "colab_type": "code",
        "colab": {}
      },
      "source": [
        "cd test_code/"
      ],
      "execution_count": null,
      "outputs": []
    },
    {
      "cell_type": "code",
      "metadata": {
        "id": "d5NBv2Pb0ynh",
        "colab_type": "code",
        "colab": {}
      },
      "source": [
        "!python cartoonize.py"
      ],
      "execution_count": null,
      "outputs": []
    },
    {
      "cell_type": "code",
      "metadata": {
        "id": "6wzxWSXO0045",
        "colab_type": "code",
        "colab": {}
      },
      "source": [
        ""
      ],
      "execution_count": null,
      "outputs": []
    }
  ]
}